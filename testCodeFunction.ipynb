{
 "cells": [
  {
   "cell_type": "markdown",
   "metadata": {
    "collapsed": true,
    "pycharm": {
     "name": "#%% md\n"
    }
   },
   "source": [
    "测试 Auto Code"
   ]
  },
  {
   "cell_type": "code",
   "execution_count": 9,
   "outputs": [
    {
     "name": "stdout",
     "output_type": "stream",
     "text": [
      "G:\\Data\\MyBlog\\source_blog\n",
      "False\n",
      "['source/_posts/ceshi.md']\n"
     ]
    }
   ],
   "source": [
    "from git import Repo\n",
    "from lib.FileAction import readymldir\n",
    "\n",
    "__config__ = readymldir('lib/config.yml')\n",
    "blog_position = __config__[\"BlogInfo\"][\"blog_position\"]\n",
    "print(blog_position)\n",
    "cmd_gotoblogfolder = 'cd '+blog_position\n",
    "blog_disk = blog_position.split(\"\\\\\")[0]  #获取博客所在盘符\n",
    "\n",
    "# dirfile = 'G:\\Data\\MyBlog\\Tools\\HexoTool.python'\n",
    "dirfile = blog_position\n",
    "\n",
    "repo = Repo(dirfile)\n",
    "print(repo.is_dirty())\n",
    "print(repo.untracked_files)\n",
    "\n",
    "# g = repo.git\n",
    "# g.add(\"--all\")\n",
    "# print()\n",
    "# g.commit(\"-m auto update\")\n",
    "# g.push()\n",
    "# print(\"Successful push!\")\n",
    "\n"
   ],
   "metadata": {
    "collapsed": false,
    "pycharm": {
     "name": "#%%\n"
    }
   }
  },
  {
   "cell_type": "code",
   "execution_count": 10,
   "outputs": [
    {
     "name": "stdout",
     "output_type": "stream",
     "text": [
      "True\n",
      "[]\n"
     ]
    }
   ],
   "source": [
    "from git import Repo\n",
    "from lib.FileAction import readymldir\n",
    "\n",
    "dirfile = 'G:\\Data\\MyBlog\\Tools\\HexoTool.python'\n",
    "\n",
    "repo = Repo(dirfile)\n",
    "print(repo.is_dirty())\n",
    "print(repo.untracked_files)\n",
    "\n",
    "# g = repo.git\n",
    "# g.add(\"--all\")\n",
    "# print()\n",
    "# g.commit(\"-m auto update\")\n",
    "# g.push()\n",
    "# print(\"Successful push!\")\n"
   ],
   "metadata": {
    "collapsed": false,
    "pycharm": {
     "name": "#%%\n"
    }
   }
  },
  {
   "cell_type": "code",
   "execution_count": 11,
   "outputs": [
    {
     "name": "stdout",
     "output_type": "stream",
     "text": [
      "one true\n"
     ]
    }
   ],
   "source": [
    "a = False\n",
    "b = True\n",
    "if a ==True or b ==True:\n",
    "    print(\"one true\")"
   ],
   "metadata": {
    "collapsed": false,
    "pycharm": {
     "name": "#%%\n"
    }
   }
  },
  {
   "cell_type": "code",
   "execution_count": 11,
   "outputs": [],
   "source": [],
   "metadata": {
    "collapsed": false,
    "pycharm": {
     "name": "#%%\n"
    }
   }
  }
 ],
 "metadata": {
  "kernelspec": {
   "name": "conda-root-py",
   "language": "python",
   "display_name": "Python [conda env:root] *"
  },
  "language_info": {
   "codemirror_mode": {
    "name": "ipython",
    "version": 2
   },
   "file_extension": ".py",
   "mimetype": "text/x-python",
   "name": "python",
   "nbconvert_exporter": "python",
   "pygments_lexer": "ipython2",
   "version": "2.7.6"
  }
 },
 "nbformat": 4,
 "nbformat_minor": 0
}