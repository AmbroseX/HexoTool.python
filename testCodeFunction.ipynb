{
 "cells": [
  {
   "cell_type": "markdown",
   "source": [
    "# 测试配置文件"
   ],
   "metadata": {
    "collapsed": false,
    "pycharm": {
     "name": "#%% md\n"
    }
   }
  },
  {
   "cell_type": "code",
   "execution_count": 53,
   "outputs": [
    {
     "name": "stdout",
     "output_type": "stream",
     "text": [
      "True\n"
     ]
    }
   ],
   "source": [
    "from lib.FileAction import readymldir\n",
    "__config__ = readymldir('lib/config.yml')\n",
    "BuildTitle = __config__[\"Config\"][\"BuildTitle\"]\n",
    "print(BuildTitle==\"True\")"
   ],
   "metadata": {
    "collapsed": false,
    "pycharm": {
     "name": "#%%\n"
    }
   }
  },
  {
   "cell_type": "markdown",
   "metadata": {
    "collapsed": true,
    "pycharm": {
     "name": "#%% md\n"
    }
   },
   "source": [
    "测试 Auto Code"
   ]
  },
  {
   "cell_type": "code",
   "execution_count": 15,
   "outputs": [
    {
     "name": "stdout",
     "output_type": "stream",
     "text": [
      "G:\\Data\\MyBlog\\source_blog\n",
      "True\n",
      "[]\n",
      "\n",
      "Successful push!\n"
     ]
    }
   ],
   "source": [
    "import os\n",
    "from git import Repo\n",
    "from lib.FileAction import readymldir\n",
    "\n",
    "__config__ = readymldir('lib/config.yml')\n",
    "blog_position = __config__[\"BlogInfo\"][\"blog_position\"]\n",
    "print(blog_position)\n",
    "cmd_gotoblogfolder = 'cd '+blog_position\n",
    "blog_disk = blog_position.split(\"\\\\\")[0]  #获取博客所在盘符\n",
    "\n",
    "# dirfile = 'G:\\Data\\MyBlog\\Tools\\HexoTool.python'\n",
    "dirfile = blog_position\n",
    "\n",
    "repo = Repo(dirfile)\n",
    "print(repo.is_dirty())\n",
    "print(repo.untracked_files)\n",
    "\n",
    "\n",
    "# pwd = os.getcwd()  #获取当前路径\n",
    "# print(\"当前路径 = \"+pwd)\n",
    "# AutoGitPath = os.path.join(pwd,'lib','autogit.py')\n",
    "# print(AutoGitPath)\n",
    "# cmd = 'python '+AutoGitPath\n",
    "\n",
    "g = repo.git\n",
    "g.add(\"--all\")\n",
    "print()\n",
    "g.commit(\"-m auto update\")\n",
    "g.push()\n",
    "print(\"Successful push!\")\n",
    "\n"
   ],
   "metadata": {
    "collapsed": false,
    "pycharm": {
     "name": "#%%\n"
    }
   }
  },
  {
   "cell_type": "code",
   "execution_count": 16,
   "outputs": [
    {
     "name": "stdout",
     "output_type": "stream",
     "text": [
      "True\n",
      "[]\n"
     ]
    }
   ],
   "source": [
    "from git import Repo\n",
    "from lib.FileAction import readymldir\n",
    "\n",
    "dirfile = 'G:\\Data\\MyBlog\\Tools\\HexoTool.python'\n",
    "\n",
    "repo = Repo(dirfile)\n",
    "print(repo.is_dirty())\n",
    "print(repo.untracked_files)\n",
    "\n",
    "# g = repo.git\n",
    "# g.add(\"--all\")\n",
    "# print()\n",
    "# g.commit(\"-m auto update\")\n",
    "# g.push()\n",
    "# print(\"Successful push!\")\n"
   ],
   "metadata": {
    "collapsed": false,
    "pycharm": {
     "name": "#%%\n"
    }
   }
  },
  {
   "cell_type": "code",
   "execution_count": 17,
   "outputs": [
    {
     "name": "stdout",
     "output_type": "stream",
     "text": [
      "one true\n"
     ]
    }
   ],
   "source": [
    "a = False\n",
    "b = True\n",
    "if a ==True or b ==True:\n",
    "    print(\"one true\")"
   ],
   "metadata": {
    "collapsed": false,
    "pycharm": {
     "name": "#%%\n"
    }
   }
  },
  {
   "cell_type": "markdown",
   "source": [
    "# 测试打开GitHubDesktop"
   ],
   "metadata": {
    "collapsed": false,
    "pycharm": {
     "name": "#%% md\n"
    }
   }
  },
  {
   "cell_type": "code",
   "execution_count": 19,
   "outputs": [
    {
     "data": {
      "text/plain": "True"
     },
     "execution_count": 19,
     "metadata": {},
     "output_type": "execute_result"
    }
   ],
   "source": [
    "import  subprocess\n",
    "githubDeskTop = subprocess.Popen(r'C:\\Users\\Administrator\\AppData\\Local\\GitHubDesktop\\GitHubDesktop.exe')\n",
    "githubDeskTop.poll() == None"
   ],
   "metadata": {
    "collapsed": false,
    "pycharm": {
     "name": "#%%\n"
    }
   }
  },
  {
   "cell_type": "markdown",
   "source": [
    "# 测试Everything搜索"
   ],
   "metadata": {
    "collapsed": false,
    "pycharm": {
     "name": "#%% md\n"
    }
   }
  },
  {
   "cell_type": "code",
   "execution_count": 59,
   "outputs": [
    {
     "name": "stdout",
     "output_type": "stream",
     "text": [
      "localhost/?search=G%3A%5CData%5CMyBlog%5Csource_blog%5Csource+content%3A\n",
      "['G:\\\\Data\\\\MyBlog\\\\source_blog\\\\source\\\\_posts\\\\buildblog/add-photo-album.md', 'G:\\\\Data\\\\MyBlog\\\\source_blog\\\\source\\\\_posts\\\\buildblog/addcount-number.md', 'G:\\\\Data\\\\MyBlog\\\\source_blog\\\\source\\\\_posts\\\\buildblog/config-next.md', 'G:\\\\Data\\\\MyBlog\\\\source_blog\\\\source\\\\_posts\\\\buildblog/Firstblog.md', 'G:\\\\Data\\\\MyBlog\\\\source_blog\\\\source\\\\_posts/Hexo常用命令查询.md', 'G:\\\\Data\\\\MyBlog\\\\source_blog\\\\source\\\\_posts/introduction.md', 'G:\\\\Data\\\\MyBlog\\\\source_blog\\\\source\\\\_posts\\\\programming\\\\Python/Python自动Git操作.md', 'G:\\\\Data\\\\MyBlog\\\\source_blog\\\\source\\\\_posts\\\\SoftwareUsage/Typora如何让Markdown自动显示序号.md', 'G:\\\\Data\\\\MyBlog\\\\source_blog\\\\source\\\\_posts\\\\buildblog/windows上生成ssh密钥.md', 'G:\\\\Data\\\\MyBlog\\\\source_blog\\\\source\\\\_posts\\\\buildblog/个人博客重建系列1：博客建立准备.md', 'G:\\\\Data\\\\MyBlog\\\\source_blog\\\\source\\\\_posts\\\\buildblog/个人博客重建系列3：主题设置.md', 'G:\\\\Data\\\\MyBlog\\\\source_blog\\\\source\\\\_posts\\\\buildblog/博客图床制作.md', 'G:\\\\Data\\\\MyBlog\\\\source_blog\\\\source\\\\_posts\\\\buildblog/如何让自己的博客被搜索引擎收录.md', 'G:\\\\Data\\\\MyBlog\\\\source_blog\\\\source\\\\_posts\\\\programming\\\\Python/用Python的PYQT编写GUI界面程序.md', 'G:\\\\Data\\\\MyBlog\\\\source_blog\\\\source\\\\_posts\\\\buildblog/通过gitee和hexo搭建个人博客.md']\n"
     ]
    },
    {
     "data": {
      "text/plain": "'G:\\\\Data\\\\MyBlog\\\\source_blog\\\\source\\\\_posts\\\\buildblog/addcount-number.md'"
     },
     "execution_count": 59,
     "metadata": {},
     "output_type": "execute_result"
    }
   ],
   "source": [
    "import requests\n",
    "from bs4 import BeautifulSoup\n",
    "\n",
    "def findit(path,text):\n",
    "    request = requests.get(\"http://\"+path+text)\n",
    "    content = request.text\n",
    "    # print(content)\n",
    "    soup = BeautifulSoup(content, 'lxml')\n",
    "    items = soup.find_all(\"tr\", {'class': 'trdata1'})\n",
    "    title = []\n",
    "    source = []\n",
    "    if items:\n",
    "\n",
    "        for i in range(len(items)):\n",
    "            filename = str(items[i].find(\"a\").text)\n",
    "            title.append(filename)\n",
    "            source.append(items[i].find_all(\"nobr\")[2].text + \"/\" + filename)\n",
    "    items = soup.find_all(\"tr\", {'class': 'trdata2'})\n",
    "    print(source)\n",
    "    return source\n",
    "\n",
    "\n",
    "def TransPath2LocalUrl(path):\n",
    "    disk = path.split(\"\\\\\")[0]  #获取博客所在盘符\n",
    "    disk0 = disk.split(\":\")[0]\n",
    "    urlpath = 'localhost/'+disk0+\"%3A\"\n",
    "    for item in path.split(\"\\\\\"):\n",
    "        if item != path.split(\"\\\\\")[0]:\n",
    "            urlpath = urlpath+\"/\"+item\n",
    "    return urlpath\n",
    "\n",
    "def SpecialPathContent2Url(path):\n",
    "    disk = path.split(\"\\\\\")[0]  #获取博客所在盘符\n",
    "    disk0 = disk.split(\":\")[0]\n",
    "    urlpath = \"localhost/\"+\"?search=\"+disk0+\"%3A\"\n",
    "    for item in path.split(\"\\\\\"):\n",
    "        if item != path.split(\"\\\\\")[0]:\n",
    "            urlpath = urlpath+\"%5C\"+item\n",
    "    urlpath = urlpath+\"+content%3A\"\n",
    "    return urlpath\n",
    "\n",
    "\n",
    "blogpost = os.path.join('G:\\Data\\MyBlog\\source_blog','source')\n",
    "\n",
    "urlpath = SpecialPathContent2Url(blogpost)\n",
    "print(urlpath)\n",
    "\n",
    "content = findit(urlpath,\"个人博客\")\n",
    "content[1]\n"
   ],
   "metadata": {
    "collapsed": false,
    "pycharm": {
     "name": "#%%\n"
    }
   }
  },
  {
   "cell_type": "markdown",
   "source": [
    "# 测试用默认程序打开文件"
   ],
   "metadata": {
    "collapsed": false,
    "pycharm": {
     "name": "#%% md\n"
    }
   }
  },
  {
   "cell_type": "code",
   "execution_count": 5,
   "outputs": [],
   "source": [
    "cmd = 'cmd /c start '+ \"G:\\Data\\MyBlog\\source_blog\\source\\_posts\\introduction.md\"\n",
    "os.system(cmd);\n"
   ],
   "metadata": {
    "collapsed": false,
    "pycharm": {
     "name": "#%%\n"
    }
   }
  },
  {
   "cell_type": "code",
   "execution_count": 3,
   "outputs": [],
   "source": [
    "import os\n",
    "cmd = 'F:\\Everything\\Everything.exe'\n",
    "os.system(cmd);"
   ],
   "metadata": {
    "collapsed": false,
    "pycharm": {
     "name": "#%%\n"
    }
   }
  },
  {
   "cell_type": "code",
   "execution_count": 11,
   "outputs": [],
   "source": [
    "import os\n",
    "cmd = 'cmd /c start /min \"\" '+ 'F:\\Everything\\Everything.exe'\n",
    "os.system(cmd);\n"
   ],
   "metadata": {
    "collapsed": false,
    "pycharm": {
     "name": "#%%\n"
    }
   }
  }
 ],
 "metadata": {
  "kernelspec": {
   "name": "python3",
   "language": "python",
   "display_name": "Python 3 (ipykernel)"
  },
  "language_info": {
   "codemirror_mode": {
    "name": "ipython",
    "version": 2
   },
   "file_extension": ".py",
   "mimetype": "text/x-python",
   "name": "python",
   "nbconvert_exporter": "python",
   "pygments_lexer": "ipython2",
   "version": "2.7.6"
  }
 },
 "nbformat": 4,
 "nbformat_minor": 0
}